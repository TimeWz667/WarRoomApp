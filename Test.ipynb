{
 "cells": [
  {
   "cell_type": "code",
   "execution_count": 19,
   "id": "afe86a9d",
   "metadata": {},
   "outputs": [],
   "source": [
    "from scipy.integrate import solve_ivp\n",
    "import numpy as np\n",
    "import pandas as pd\n",
    "from pydantic import BaseModel, ValidationError, validator, confloat, Field\n",
    "from pydantic.schema import schema"
   ]
  },
  {
   "cell_type": "code",
   "execution_count": 22,
   "id": "c113cd02",
   "metadata": {},
   "outputs": [],
   "source": [
    "class I:\n",
    "    U = 0\n",
    "    FL = 1\n",
    "    SL = 2\n",
    "    Sym = 3\n",
    "    Rec = 4\n",
    "\n",
    "\n",
    "class Intv0(BaseModel):\n",
    "    scale: confloat(strict=True, ge=0, le=1) = Field(\n",
    "        default=0,\n",
    "        title='Coverage',\n",
    "        description='The coverage of the intervention'\n",
    "    )\n",
    "    \n",
    "\n",
    "class Demand(Intv0):\n",
    "    def impluse(self, r_det):\n",
    "        return r_det\n",
    "\n",
    "\n",
    "class RedRel(Intv0):\n",
    "    def impluse(self, r_react, r_rel):\n",
    "        return r_react, r_rel\n",
    "\n",
    "\n",
    "class Interventions(BaseModel):\n",
    "    Year0: float = 2019\n",
    "    Year1: float = 2030\n",
    "    YearI0: float = 2022\n",
    "    YearI1: float = 2025\n",
    "    Demand: Demand = Demand()\n",
    "    RedRel: RedRel = RedRel()\n",
    "        \n",
    "    def do_actions(self, t, r_react, r_rel, r_det):\n",
    "        r_react1, r_rel1 = self.RedRel.impulse(r_react, r_rel)\n",
    "        r_det1 = self.Demand.impulse(r_det)\n",
    "        \n",
    "        wt = self.calc_wt(t)\n",
    "        r_react = self.scale_up(r_react, r_react1, wt)\n",
    "        r_rel = self.scale_up(r_rel, r_rel1, wt)\n",
    "        r_det = self.scale_up(r_det, r_det1, wt)\n",
    "        \n",
    "        return r_react, r_rel, r_det\n",
    "    \n",
    "    def calc_wt(self, t):\n",
    "        if t < self.YearI0:\n",
    "            return 0\n",
    "        elif t > self.YearI1:\n",
    "            return 1\n",
    "        else:\n",
    "            return (t - self.YearI0) / (self.YearI1 - self.YearI0)\n",
    "        \n",
    "    def scale_up(v0, v1, wt):\n",
    "        return v0 + wt * (v1 - v0)\n",
    "        \n",
    "    "
   ]
  },
  {
   "cell_type": "code",
   "execution_count": 32,
   "id": "e3033a72",
   "metadata": {},
   "outputs": [
    {
     "data": {
      "text/plain": [
       "{'Year0': 2023.0, 'Demand': {'scale': 0}, 'RedRel': {'scale': 0}}"
      ]
     },
     "execution_count": 32,
     "metadata": {},
     "output_type": "execute_result"
    }
   ],
   "source": [
    "intv = Interventions.parse_obj({'Year0': 2023})\n",
    "intv.dict()"
   ]
  },
  {
   "cell_type": "code",
   "execution_count": 33,
   "id": "7853d3f8",
   "metadata": {},
   "outputs": [],
   "source": [
    "?Interventions"
   ]
  },
  {
   "cell_type": "code",
   "execution_count": 30,
   "id": "224c5c8b",
   "metadata": {},
   "outputs": [
    {
     "data": {
      "text/plain": [
       "(array([6]), array([6]))"
      ]
     },
     "execution_count": 30,
     "metadata": {},
     "output_type": "execute_result"
    }
   ],
   "source": [
    "x = np.array([5])\n",
    "y = x\n",
    "x += 1\n",
    "x, y"
   ]
  },
  {
   "cell_type": "code",
   "execution_count": 32,
   "id": "b7cc3ffd",
   "metadata": {},
   "outputs": [],
   "source": [
    "class Model:\n",
    "    def __init__(self, year0 = 250):\n",
    "        self.Year0 = year0\n",
    "        self.Intv = None\n",
    "    \n",
    "    def get_y0(self):\n",
    "        return np.array([99900, 0, 0, 100, 0])\n",
    "    \n",
    "    def collect_calc(self, t, y, pars):\n",
    "        calc = dict()\n",
    "        \n",
    "        foi = pars['beta'] * y[I.Sym] / y.sum()\n",
    "        \n",
    "        if t > 250:\n",
    "            foi *= np.exp(- pars['adr'] * (t - 250))\n",
    "        \n",
    "        infections = foi * np.array([1, 0, 0.2, 0, 0.2]) * y\n",
    "        \n",
    "        calc['infections'] = infections\n",
    "        calc['lat'] = pars['r_lat'] * y[I.FL]\n",
    "        calc['act'] = pars['r_act'] * y[I.FL]\n",
    "        calc['react'] = pars['r_react'] * y[I.SL]\n",
    "        calc['rel'] = pars['r_rel'] * y[I.Rec]\n",
    "        calc['det'] = pars['r_det'] * y[I.Sym]\n",
    "        calc['deaths'] = pars['mu'] * y\n",
    "        return calc\n",
    "    \n",
    "    def __call__(self, t, y, pars):\n",
    "        calc = self.collect_calc(t, y, pars)\n",
    "        \n",
    "        dy = np.zeros(5)\n",
    "        dy -= calc['infections']\n",
    "        dy[I.FL] += calc['infections'].sum() - calc['act'] - calc['lat']\n",
    "        dy[I.SL] += calc['lat'] - calc['react']\n",
    "        dy[I.Sym] += calc['act'] + calc['react'] + calc['rel'] - calc['det']\n",
    "        dy[I.Rec] += calc['det'] - calc['rel']\n",
    "        \n",
    "        dy -= calc['deaths']\n",
    "        dy[I.U] += calc['deaths'].sum()\n",
    "        \n",
    "        return dy\n",
    "        \n",
    "    \n",
    "    def measure(self, t, y, pars):\n",
    "        n = y.sum()\n",
    "        \n",
    "        calc = self.collect_calc(t, y, pars)\n",
    "        \n",
    "        inc = calc['act'] + calc['react'] + calc['rel']\n",
    "        \n",
    "        return {\n",
    "            'Year': t,\n",
    "            'Prev': y[I.Sym] / n,\n",
    "            'IncR': inc / n\n",
    "        }\n",
    "    \n",
    "    \n",
    "    \n",
    "def simulate(model, pars, intv = None):\n",
    "    model.Intv = intv\n",
    "    y0 = model.get_y0()\n",
    "\n",
    "    sol = solve_ivp(model, [0, 300], y0, t_eval = np.linspace(0, 300, 3001), args = (pars, ), dense_output = True)\n",
    "\n",
    "    meas = list()\n",
    "\n",
    "    for t in sol.t:\n",
    "        if t > 250:\n",
    "            meas.append(model.measure(t, sol.sol(t), pars))\n",
    "\n",
    "    meas = pd.DataFrame(meas)\n",
    "    meas = meas.set_index('Year')\n",
    "    model.Intv = intv\n",
    "    return meas"
   ]
  },
  {
   "cell_type": "code",
   "execution_count": 46,
   "id": "5f21122c",
   "metadata": {},
   "outputs": [
    {
     "data": {
      "text/plain": [
       "<AxesSubplot:xlabel='Year'>"
      ]
     },
     "execution_count": 46,
     "metadata": {},
     "output_type": "execute_result"
    },
    {
     "data": {
      "image/png": "[encoded data removed]",
      "text/plain": [
       "<Figure size 432x288 with 1 Axes>"
      ]
     },
     "metadata": {
      "needs_background": "light"
     },
     "output_type": "display_data"
    }
   ],
   "source": [
    "model = Model()\n",
    "\n",
    "pars = {\n",
    "    'beta': 30,\n",
    "    'r_lat': 0.5,\n",
    "    'r_act': 0.05,\n",
    "    'r_react': 0.002,\n",
    "    'r_rel': 0.002,\n",
    "    'r_det': 2,\n",
    "    'adr': 0.02,\n",
    "    'mu': 0.02\n",
    "}\n",
    "\n",
    "\n",
    "meas = simulate(model, pars)\n",
    "meas.plot() "
   ]
  },
  {
   "cell_type": "code",
   "execution_count": 9,
   "id": "5088a726",
   "metadata": {},
   "outputs": [
    {
     "data": {
      "text/html": [
       "<div>\n",
       "<style scoped>\n",
       "    .dataframe tbody tr th:only-of-type {\n",
       "        vertical-align: middle;\n",
       "    }\n",
       "\n",
       "    .dataframe tbody tr th {\n",
       "        vertical-align: top;\n",
       "    }\n",
       "\n",
       "    .dataframe thead th {\n",
       "        text-align: right;\n",
       "    }\n",
       "</style>\n",
       "<table border=\"1\" class=\"dataframe\">\n",
       "  <thead>\n",
       "    <tr style=\"text-align: right;\">\n",
       "      <th></th>\n",
       "      <th>Year</th>\n",
       "      <th>Prev</th>\n",
       "      <th>IncR</th>\n",
       "    </tr>\n",
       "  </thead>\n",
       "  <tbody>\n",
       "    <tr>\n",
       "      <th>0</th>\n",
       "      <td>0.0</td>\n",
       "      <td>0.000000e+00</td>\n",
       "      <td>1.000000e-06</td>\n",
       "    </tr>\n",
       "    <tr>\n",
       "      <th>1</th>\n",
       "      <td>0.1</td>\n",
       "      <td>9.044944e-08</td>\n",
       "      <td>9.979116e-07</td>\n",
       "    </tr>\n",
       "    <tr>\n",
       "      <th>2</th>\n",
       "      <td>0.2</td>\n",
       "      <td>1.641728e-07</td>\n",
       "      <td>9.958439e-07</td>\n",
       "    </tr>\n",
       "    <tr>\n",
       "      <th>3</th>\n",
       "      <td>0.3</td>\n",
       "      <td>2.242335e-07</td>\n",
       "      <td>9.937940e-07</td>\n",
       "    </tr>\n",
       "    <tr>\n",
       "      <th>4</th>\n",
       "      <td>0.4</td>\n",
       "      <td>2.730945e-07</td>\n",
       "      <td>9.917592e-07</td>\n",
       "    </tr>\n",
       "    <tr>\n",
       "      <th>...</th>\n",
       "      <td>...</td>\n",
       "      <td>...</td>\n",
       "      <td>...</td>\n",
       "    </tr>\n",
       "    <tr>\n",
       "      <th>296</th>\n",
       "      <td>29.6</td>\n",
       "      <td>2.763258e-07</td>\n",
       "      <td>5.529477e-07</td>\n",
       "    </tr>\n",
       "    <tr>\n",
       "      <th>297</th>\n",
       "      <td>29.7</td>\n",
       "      <td>2.757908e-07</td>\n",
       "      <td>5.518429e-07</td>\n",
       "    </tr>\n",
       "    <tr>\n",
       "      <th>298</th>\n",
       "      <td>29.8</td>\n",
       "      <td>2.752501e-07</td>\n",
       "      <td>5.507403e-07</td>\n",
       "    </tr>\n",
       "    <tr>\n",
       "      <th>299</th>\n",
       "      <td>29.9</td>\n",
       "      <td>2.747090e-07</td>\n",
       "      <td>5.496399e-07</td>\n",
       "    </tr>\n",
       "    <tr>\n",
       "      <th>300</th>\n",
       "      <td>30.0</td>\n",
       "      <td>2.741743e-07</td>\n",
       "      <td>5.485417e-07</td>\n",
       "    </tr>\n",
       "  </tbody>\n",
       "</table>\n",
       "<p>301 rows × 3 columns</p>\n",
       "</div>"
      ],
      "text/plain": [
       "     Year          Prev          IncR\n",
       "0     0.0  0.000000e+00  1.000000e-06\n",
       "1     0.1  9.044944e-08  9.979116e-07\n",
       "2     0.2  1.641728e-07  9.958439e-07\n",
       "3     0.3  2.242335e-07  9.937940e-07\n",
       "4     0.4  2.730945e-07  9.917592e-07\n",
       "..    ...           ...           ...\n",
       "296  29.6  2.763258e-07  5.529477e-07\n",
       "297  29.7  2.757908e-07  5.518429e-07\n",
       "298  29.8  2.752501e-07  5.507403e-07\n",
       "299  29.9  2.747090e-07  5.496399e-07\n",
       "300  30.0  2.741743e-07  5.485417e-07\n",
       "\n",
       "[301 rows x 3 columns]"
      ]
     },
     "execution_count": 9,
     "metadata": {},
     "output_type": "execute_result"
    }
   ],
   "source": [
    "meas"
   ]
  },
  {
   "cell_type": "code",
   "execution_count": 17,
   "id": "66ce1250",
   "metadata": {},
   "outputs": [
    {
     "data": {
      "text/plain": [
       "301.0"
      ]
     },
     "execution_count": 17,
     "metadata": {},
     "output_type": "execute_result"
    }
   ],
   "source": [
    "30 / 0.1 + 1"
   ]
  }
 ],
 "metadata": {
  "kernelspec": {
   "display_name": "Python 3 (ipykernel)",
   "language": "python",
   "name": "python3"
  },
  "language_info": {
   "codemirror_mode": {
    "name": "ipython",
    "version": 3
   },
   "file_extension": ".py",
   "mimetype": "text/x-python",
   "name": "python",
   "nbconvert_exporter": "python",
   "pygments_lexer": "ipython3",
   "version": "3.9.7"
  }
 },
 "nbformat": 4,
 "nbformat_minor": 5
}
